{
 "cells": [
  {
   "cell_type": "code",
   "execution_count": 12,
   "id": "df015a8c",
   "metadata": {},
   "outputs": [],
   "source": [
    "import pandas as pd\n",
    "import numpy as np\n",
    "import matplotlib.pyplot as plt\n",
    "\n",
    "from sklearn.ensemble import RandomForestClassifier"
   ]
  },
  {
   "cell_type": "markdown",
   "id": "0ca87501",
   "metadata": {},
   "source": [
    "# 데이터 셋 준비"
   ]
  },
  {
   "cell_type": "code",
   "execution_count": 13,
   "id": "501e4b35",
   "metadata": {},
   "outputs": [],
   "source": [
    "import seaborn as sns\n",
    "iris=sns.load_dataset('iris')"
   ]
  },
  {
   "cell_type": "code",
   "execution_count": 14,
   "id": "a00a7841",
   "metadata": {
    "scrolled": false
   },
   "outputs": [
    {
     "data": {
      "text/html": [
       "<div>\n",
       "<style scoped>\n",
       "    .dataframe tbody tr th:only-of-type {\n",
       "        vertical-align: middle;\n",
       "    }\n",
       "\n",
       "    .dataframe tbody tr th {\n",
       "        vertical-align: top;\n",
       "    }\n",
       "\n",
       "    .dataframe thead th {\n",
       "        text-align: right;\n",
       "    }\n",
       "</style>\n",
       "<table border=\"1\" class=\"dataframe\">\n",
       "  <thead>\n",
       "    <tr style=\"text-align: right;\">\n",
       "      <th></th>\n",
       "      <th>sepal_length</th>\n",
       "      <th>sepal_width</th>\n",
       "      <th>petal_length</th>\n",
       "      <th>petal_width</th>\n",
       "      <th>species</th>\n",
       "    </tr>\n",
       "  </thead>\n",
       "  <tbody>\n",
       "    <tr>\n",
       "      <th>0</th>\n",
       "      <td>5.1</td>\n",
       "      <td>3.5</td>\n",
       "      <td>1.4</td>\n",
       "      <td>0.2</td>\n",
       "      <td>setosa</td>\n",
       "    </tr>\n",
       "    <tr>\n",
       "      <th>1</th>\n",
       "      <td>4.9</td>\n",
       "      <td>3.0</td>\n",
       "      <td>1.4</td>\n",
       "      <td>0.2</td>\n",
       "      <td>setosa</td>\n",
       "    </tr>\n",
       "    <tr>\n",
       "      <th>2</th>\n",
       "      <td>4.7</td>\n",
       "      <td>3.2</td>\n",
       "      <td>1.3</td>\n",
       "      <td>0.2</td>\n",
       "      <td>setosa</td>\n",
       "    </tr>\n",
       "    <tr>\n",
       "      <th>3</th>\n",
       "      <td>4.6</td>\n",
       "      <td>3.1</td>\n",
       "      <td>1.5</td>\n",
       "      <td>0.2</td>\n",
       "      <td>setosa</td>\n",
       "    </tr>\n",
       "    <tr>\n",
       "      <th>4</th>\n",
       "      <td>5.0</td>\n",
       "      <td>3.6</td>\n",
       "      <td>1.4</td>\n",
       "      <td>0.2</td>\n",
       "      <td>setosa</td>\n",
       "    </tr>\n",
       "    <tr>\n",
       "      <th>...</th>\n",
       "      <td>...</td>\n",
       "      <td>...</td>\n",
       "      <td>...</td>\n",
       "      <td>...</td>\n",
       "      <td>...</td>\n",
       "    </tr>\n",
       "    <tr>\n",
       "      <th>145</th>\n",
       "      <td>6.7</td>\n",
       "      <td>3.0</td>\n",
       "      <td>5.2</td>\n",
       "      <td>2.3</td>\n",
       "      <td>virginica</td>\n",
       "    </tr>\n",
       "    <tr>\n",
       "      <th>146</th>\n",
       "      <td>6.3</td>\n",
       "      <td>2.5</td>\n",
       "      <td>5.0</td>\n",
       "      <td>1.9</td>\n",
       "      <td>virginica</td>\n",
       "    </tr>\n",
       "    <tr>\n",
       "      <th>147</th>\n",
       "      <td>6.5</td>\n",
       "      <td>3.0</td>\n",
       "      <td>5.2</td>\n",
       "      <td>2.0</td>\n",
       "      <td>virginica</td>\n",
       "    </tr>\n",
       "    <tr>\n",
       "      <th>148</th>\n",
       "      <td>6.2</td>\n",
       "      <td>3.4</td>\n",
       "      <td>5.4</td>\n",
       "      <td>2.3</td>\n",
       "      <td>virginica</td>\n",
       "    </tr>\n",
       "    <tr>\n",
       "      <th>149</th>\n",
       "      <td>5.9</td>\n",
       "      <td>3.0</td>\n",
       "      <td>5.1</td>\n",
       "      <td>1.8</td>\n",
       "      <td>virginica</td>\n",
       "    </tr>\n",
       "  </tbody>\n",
       "</table>\n",
       "<p>150 rows × 5 columns</p>\n",
       "</div>"
      ],
      "text/plain": [
       "     sepal_length  sepal_width  petal_length  petal_width    species\n",
       "0             5.1          3.5           1.4          0.2     setosa\n",
       "1             4.9          3.0           1.4          0.2     setosa\n",
       "2             4.7          3.2           1.3          0.2     setosa\n",
       "3             4.6          3.1           1.5          0.2     setosa\n",
       "4             5.0          3.6           1.4          0.2     setosa\n",
       "..            ...          ...           ...          ...        ...\n",
       "145           6.7          3.0           5.2          2.3  virginica\n",
       "146           6.3          2.5           5.0          1.9  virginica\n",
       "147           6.5          3.0           5.2          2.0  virginica\n",
       "148           6.2          3.4           5.4          2.3  virginica\n",
       "149           5.9          3.0           5.1          1.8  virginica\n",
       "\n",
       "[150 rows x 5 columns]"
      ]
     },
     "execution_count": 14,
     "metadata": {},
     "output_type": "execute_result"
    }
   ],
   "source": [
    "iris"
   ]
  },
  {
   "cell_type": "markdown",
   "id": "f35f6908",
   "metadata": {},
   "source": [
    "# 모델 검증"
   ]
  },
  {
   "cell_type": "markdown",
   "id": "3d119025",
   "metadata": {},
   "source": [
    "## 1. hold-out"
   ]
  },
  {
   "cell_type": "code",
   "execution_count": 15,
   "id": "82e06b86",
   "metadata": {},
   "outputs": [],
   "source": [
    "from sklearn.model_selection import train_test_split"
   ]
  },
  {
   "cell_type": "code",
   "execution_count": 16,
   "id": "8ed1498c",
   "metadata": {},
   "outputs": [],
   "source": [
    "x_train, x_test, y_train, y_test = train_test_split(iris.iloc[:,0:4],iris[\"species\"], test_size=0.2, random_state=42)"
   ]
  },
  {
   "cell_type": "code",
   "execution_count": 17,
   "id": "c0870dad",
   "metadata": {},
   "outputs": [
    {
     "name": "stdout",
     "output_type": "stream",
     "text": [
      "x_train :  (120, 4)\n",
      "y_train :  (120,)\n",
      "x_test :  (30, 4)\n",
      "y_test :  (30,)\n"
     ]
    }
   ],
   "source": [
    "print(\"x_train : \",x_train.shape)\n",
    "print(\"y_train : \",y_train.shape)\n",
    "print(\"x_test : \",x_test.shape)\n",
    "print(\"y_test : \",y_test.shape)"
   ]
  },
  {
   "cell_type": "code",
   "execution_count": 18,
   "id": "afa0adcb",
   "metadata": {},
   "outputs": [
    {
     "data": {
      "text/html": [
       "<div>\n",
       "<style scoped>\n",
       "    .dataframe tbody tr th:only-of-type {\n",
       "        vertical-align: middle;\n",
       "    }\n",
       "\n",
       "    .dataframe tbody tr th {\n",
       "        vertical-align: top;\n",
       "    }\n",
       "\n",
       "    .dataframe thead th {\n",
       "        text-align: right;\n",
       "    }\n",
       "</style>\n",
       "<table border=\"1\" class=\"dataframe\">\n",
       "  <thead>\n",
       "    <tr style=\"text-align: right;\">\n",
       "      <th></th>\n",
       "      <th>sepal_length</th>\n",
       "      <th>sepal_width</th>\n",
       "      <th>petal_length</th>\n",
       "      <th>petal_width</th>\n",
       "    </tr>\n",
       "  </thead>\n",
       "  <tbody>\n",
       "    <tr>\n",
       "      <th>22</th>\n",
       "      <td>4.6</td>\n",
       "      <td>3.6</td>\n",
       "      <td>1.0</td>\n",
       "      <td>0.2</td>\n",
       "    </tr>\n",
       "    <tr>\n",
       "      <th>15</th>\n",
       "      <td>5.7</td>\n",
       "      <td>4.4</td>\n",
       "      <td>1.5</td>\n",
       "      <td>0.4</td>\n",
       "    </tr>\n",
       "    <tr>\n",
       "      <th>65</th>\n",
       "      <td>6.7</td>\n",
       "      <td>3.1</td>\n",
       "      <td>4.4</td>\n",
       "      <td>1.4</td>\n",
       "    </tr>\n",
       "    <tr>\n",
       "      <th>11</th>\n",
       "      <td>4.8</td>\n",
       "      <td>3.4</td>\n",
       "      <td>1.6</td>\n",
       "      <td>0.2</td>\n",
       "    </tr>\n",
       "    <tr>\n",
       "      <th>42</th>\n",
       "      <td>4.4</td>\n",
       "      <td>3.2</td>\n",
       "      <td>1.3</td>\n",
       "      <td>0.2</td>\n",
       "    </tr>\n",
       "    <tr>\n",
       "      <th>...</th>\n",
       "      <td>...</td>\n",
       "      <td>...</td>\n",
       "      <td>...</td>\n",
       "      <td>...</td>\n",
       "    </tr>\n",
       "    <tr>\n",
       "      <th>71</th>\n",
       "      <td>6.1</td>\n",
       "      <td>2.8</td>\n",
       "      <td>4.0</td>\n",
       "      <td>1.3</td>\n",
       "    </tr>\n",
       "    <tr>\n",
       "      <th>106</th>\n",
       "      <td>4.9</td>\n",
       "      <td>2.5</td>\n",
       "      <td>4.5</td>\n",
       "      <td>1.7</td>\n",
       "    </tr>\n",
       "    <tr>\n",
       "      <th>14</th>\n",
       "      <td>5.8</td>\n",
       "      <td>4.0</td>\n",
       "      <td>1.2</td>\n",
       "      <td>0.2</td>\n",
       "    </tr>\n",
       "    <tr>\n",
       "      <th>92</th>\n",
       "      <td>5.8</td>\n",
       "      <td>2.6</td>\n",
       "      <td>4.0</td>\n",
       "      <td>1.2</td>\n",
       "    </tr>\n",
       "    <tr>\n",
       "      <th>102</th>\n",
       "      <td>7.1</td>\n",
       "      <td>3.0</td>\n",
       "      <td>5.9</td>\n",
       "      <td>2.1</td>\n",
       "    </tr>\n",
       "  </tbody>\n",
       "</table>\n",
       "<p>120 rows × 4 columns</p>\n",
       "</div>"
      ],
      "text/plain": [
       "     sepal_length  sepal_width  petal_length  petal_width\n",
       "22            4.6          3.6           1.0          0.2\n",
       "15            5.7          4.4           1.5          0.4\n",
       "65            6.7          3.1           4.4          1.4\n",
       "11            4.8          3.4           1.6          0.2\n",
       "42            4.4          3.2           1.3          0.2\n",
       "..            ...          ...           ...          ...\n",
       "71            6.1          2.8           4.0          1.3\n",
       "106           4.9          2.5           4.5          1.7\n",
       "14            5.8          4.0           1.2          0.2\n",
       "92            5.8          2.6           4.0          1.2\n",
       "102           7.1          3.0           5.9          2.1\n",
       "\n",
       "[120 rows x 4 columns]"
      ]
     },
     "execution_count": 18,
     "metadata": {},
     "output_type": "execute_result"
    }
   ],
   "source": [
    "x_train"
   ]
  },
  {
   "cell_type": "code",
   "execution_count": 19,
   "id": "a3928a0d",
   "metadata": {},
   "outputs": [
    {
     "data": {
      "text/plain": [
       "22         setosa\n",
       "15         setosa\n",
       "65     versicolor\n",
       "11         setosa\n",
       "42         setosa\n",
       "          ...    \n",
       "71     versicolor\n",
       "106     virginica\n",
       "14         setosa\n",
       "92     versicolor\n",
       "102     virginica\n",
       "Name: species, Length: 120, dtype: object"
      ]
     },
     "execution_count": 19,
     "metadata": {},
     "output_type": "execute_result"
    }
   ],
   "source": [
    "y_train"
   ]
  },
  {
   "cell_type": "markdown",
   "id": "d93f6f2c",
   "metadata": {},
   "source": [
    "## 2. k-fold"
   ]
  },
  {
   "cell_type": "code",
   "execution_count": 20,
   "id": "aeabb812",
   "metadata": {},
   "outputs": [],
   "source": [
    "from sklearn.model_selection import KFold\n",
    "\n",
    "from sklearn.metrics import accuracy_score"
   ]
  },
  {
   "cell_type": "code",
   "execution_count": 30,
   "id": "7270a559",
   "metadata": {},
   "outputs": [
    {
     "name": "stdout",
     "output_type": "stream",
     "text": [
      "1번 째 반복\n",
      "train : (120, 5)\n",
      "test : (30, 5)\n",
      "Setosa 비율 : 0.16666666666666666\n",
      "정확도 :  1.0\n",
      "\n",
      "\n",
      "2번 째 반복\n",
      "train : (120, 5)\n",
      "test : (30, 5)\n",
      "Setosa 비율 : 0.25\n",
      "정확도 :  1.0\n",
      "\n",
      "\n",
      "3번 째 반복\n",
      "train : (120, 5)\n",
      "test : (30, 5)\n",
      "Setosa 비율 : 0.4166666666666667\n",
      "정확도 :  0.8666666666666667\n",
      "\n",
      "\n",
      "4번 째 반복\n",
      "train : (120, 5)\n",
      "test : (30, 5)\n",
      "Setosa 비율 : 0.4166666666666667\n",
      "정확도 :  0.9333333333333333\n",
      "\n",
      "\n",
      "5번 째 반복\n",
      "train : (120, 5)\n",
      "test : (30, 5)\n",
      "Setosa 비율 : 0.4166666666666667\n",
      "정확도 :  0.7666666666666667\n",
      "\n",
      "\n"
     ]
    }
   ],
   "source": [
    "folds=5\n",
    "kf = KFold(n_splits=folds)\n",
    "n = 1\n",
    "accuracy_s = []\n",
    "for train_ind, test_ind in kf.split(iris):\n",
    "    print(f\"{n}번 째 반복\")\n",
    "    print(\"train :\", iris.loc[train_ind,:].shape)\n",
    "    print(\"test :\", iris.loc[test_ind,:].shape)\n",
    "    print(\"Setosa 비율 :\", np.mean(iris.loc[train_ind,:][\"species\"]==\"setosa\"))\n",
    "    \n",
    "    model_rf = RandomForestClassifier(n_jobs = -1, random_state=42)\n",
    "    model_rf.fit(iris.iloc[train_ind,0:4],iris.iloc[train_ind,4])\n",
    "    a_score = accuracy_score(iris.iloc[test_ind,4], model_rf.predict(iris.iloc[test_ind,0:4]))\n",
    "    print(\"정확도 : \",a_score)\n",
    "    accuracy_s.append(a_score)\n",
    "    \n",
    "    n += 1\n",
    "    \n",
    "    print(\"\\n\")"
   ]
  },
  {
   "cell_type": "code",
   "execution_count": 31,
   "id": "7ddfedd4",
   "metadata": {},
   "outputs": [
    {
     "name": "stdout",
     "output_type": "stream",
     "text": [
      "0.9133333333333333\n"
     ]
    }
   ],
   "source": [
    "print(np.mean(accuracy_s))"
   ]
  },
  {
   "cell_type": "code",
   "execution_count": null,
   "id": "cade3dd5",
   "metadata": {},
   "outputs": [],
   "source": []
  },
  {
   "cell_type": "markdown",
   "id": "cfa7bceb",
   "metadata": {},
   "source": [
    "## 3. stratified k-fold"
   ]
  },
  {
   "cell_type": "code",
   "execution_count": 33,
   "id": "b5f53391",
   "metadata": {},
   "outputs": [],
   "source": [
    "from sklearn.model_selection import StratifiedKFold"
   ]
  },
  {
   "cell_type": "code",
   "execution_count": 34,
   "id": "5a49a119",
   "metadata": {},
   "outputs": [
    {
     "data": {
      "text/plain": [
       "0.3333333333333333"
      ]
     },
     "execution_count": 34,
     "metadata": {},
     "output_type": "execute_result"
    }
   ],
   "source": [
    "np.mean(iris[\"species\"]==\"setosa\")"
   ]
  },
  {
   "cell_type": "code",
   "execution_count": 35,
   "id": "ef474374",
   "metadata": {},
   "outputs": [
    {
     "name": "stdout",
     "output_type": "stream",
     "text": [
      "1번 째 반복\n",
      "train : (120, 5)\n",
      "test : (30, 5)\n",
      "Setosa 비율 : 0.3333333333333333\n",
      "정확도 :  0.9666666666666667\n",
      "\n",
      "\n",
      "2번 째 반복\n",
      "train : (120, 5)\n",
      "test : (30, 5)\n",
      "Setosa 비율 : 0.3333333333333333\n",
      "정확도 :  0.9666666666666667\n",
      "\n",
      "\n",
      "3번 째 반복\n",
      "train : (120, 5)\n",
      "test : (30, 5)\n",
      "Setosa 비율 : 0.3333333333333333\n",
      "정확도 :  0.9333333333333333\n",
      "\n",
      "\n",
      "4번 째 반복\n",
      "train : (120, 5)\n",
      "test : (30, 5)\n",
      "Setosa 비율 : 0.3333333333333333\n",
      "정확도 :  0.9666666666666667\n",
      "\n",
      "\n",
      "5번 째 반복\n",
      "train : (120, 5)\n",
      "test : (30, 5)\n",
      "Setosa 비율 : 0.3333333333333333\n",
      "정확도 :  1.0\n",
      "\n",
      "\n"
     ]
    }
   ],
   "source": [
    "folds=5\n",
    "skf = StratifiedKFold(n_splits=folds)\n",
    "n = 1\n",
    "for train_ind, test_ind in skf.split(iris, iris[\"species\"]):\n",
    "    print(f\"{n}번 째 반복\")\n",
    "    print(\"train :\", iris.loc[train_ind,:].shape)\n",
    "    print(\"test :\", iris.loc[test_ind,:].shape)\n",
    "    print(\"Setosa 비율 :\", np.mean(iris.loc[train_ind,:][\"species\"]==\"setosa\"))\n",
    "    \n",
    "    model_rf = RandomForestClassifier(n_jobs = -1, random_state=42)\n",
    "    model_rf.fit(iris.iloc[train_ind,0:4],iris.iloc[train_ind,4])\n",
    "    a_score = accuracy_score(iris.iloc[test_ind,4], model_rf.predict(iris.iloc[test_ind,0:4]))\n",
    "    print(\"정확도 : \",a_score)\n",
    "    accuracy_s.append(a_score)\n",
    "    \n",
    "    n += 1\n",
    "    \n",
    "    print(\"\\n\")"
   ]
  },
  {
   "cell_type": "markdown",
   "id": "29122e09",
   "metadata": {},
   "source": [
    "# 하이퍼 파라미터 튜닝"
   ]
  },
  {
   "cell_type": "markdown",
   "id": "5560d92f",
   "metadata": {},
   "source": [
    "## 2. Grid Search"
   ]
  },
  {
   "cell_type": "code",
   "execution_count": 57,
   "id": "f730883a",
   "metadata": {},
   "outputs": [],
   "source": [
    "from sklearn.model_selection import GridSearchCV"
   ]
  },
  {
   "cell_type": "code",
   "execution_count": 59,
   "id": "a987b142",
   "metadata": {},
   "outputs": [
    {
     "name": "stdout",
     "output_type": "stream",
     "text": [
      "최적 하이퍼 파라미터:  {'max_depth': 10, 'min_samples_leaf': 4, 'min_samples_split': 10, 'n_estimators': 80}\n",
      "최고 예측 정확도: 0.9500\n"
     ]
    }
   ],
   "source": [
    "\n",
    "params = { 'n_estimators' : [80, 100, 200, 300],\n",
    "           'max_depth' : [10, 14, 16, 20],\n",
    "           'min_samples_leaf' : [4, 8, 12],\n",
    "           'min_samples_split' : [5, 10, 20]\n",
    "            }\n",
    "\n",
    "model_rf = RandomForestClassifier(n_jobs = -1, random_state=42)\n",
    "\n",
    "grid_cv = GridSearchCV(model_rf, param_grid = params, cv = 5, n_jobs = -1)\n",
    "grid_cv.fit(x_train, y_train)\n",
    "\n",
    "print('최적 하이퍼 파라미터: ', grid_cv.best_params_)\n",
    "print('최고 예측 정확도: {:.4f}'.format(grid_cv.best_score_))"
   ]
  },
  {
   "cell_type": "markdown",
   "id": "c1046e78",
   "metadata": {},
   "source": [
    "## 4. Bayesian Optimization"
   ]
  },
  {
   "cell_type": "code",
   "execution_count": 60,
   "id": "6b6b1ebc",
   "metadata": {},
   "outputs": [],
   "source": [
    "from bayes_opt import BayesianOptimization\n",
    "\n",
    "from sklearn.metrics import accuracy_score"
   ]
  },
  {
   "cell_type": "code",
   "execution_count": 68,
   "id": "f1ee9751",
   "metadata": {},
   "outputs": [],
   "source": [
    "rf_parameter_bounds = { 'n_estimators' : (80, 300),\n",
    "           'max_depth' :  (10, 20),\n",
    "           'min_samples_leaf' : (4, 12),\n",
    "           'min_samples_split' :  (5, 20)\n",
    "            }\n",
    "\n",
    "def rf_bo(n_estimators, max_depth, min_samples_leaf, min_samples_split):\n",
    "    bo_params = {\n",
    "        'n_estimators' : int(round(n_estimators)),\n",
    "        'max_depth' : int(round(max_depth)),\n",
    "        'min_samples_leaf' : int(round(min_samples_leaf)),\n",
    "        'min_samples_split' : int(round(min_samples_split)),\n",
    "    }\n",
    "    \n",
    "    rf_train_BO = RandomForestClassifier(**bo_params)\n",
    "\n",
    "    rf_train_BO.fit(x_train,y_train)\n",
    "    score = accuracy_score(y_test, rf_train_BO.predict(x_test))\n",
    "    return score"
   ]
  },
  {
   "cell_type": "code",
   "execution_count": 69,
   "id": "e7410e0a",
   "metadata": {},
   "outputs": [
    {
     "name": "stdout",
     "output_type": "stream",
     "text": [
      "|   iter    |  target   | max_depth | min_sa... | min_sa... | n_esti... |\n",
      "-------------------------------------------------------------------------\n",
      "| \u001b[0m 1       \u001b[0m | \u001b[0m 1.0     \u001b[0m | \u001b[0m 15.49   \u001b[0m | \u001b[0m 9.722   \u001b[0m | \u001b[0m 14.04   \u001b[0m | \u001b[0m 199.9   \u001b[0m |\n",
      "| \u001b[0m 2       \u001b[0m | \u001b[0m 1.0     \u001b[0m | \u001b[0m 14.24   \u001b[0m | \u001b[0m 9.167   \u001b[0m | \u001b[0m 11.56   \u001b[0m | \u001b[0m 276.2   \u001b[0m |\n",
      "| \u001b[0m 3       \u001b[0m | \u001b[0m 1.0     \u001b[0m | \u001b[0m 19.64   \u001b[0m | \u001b[0m 7.068   \u001b[0m | \u001b[0m 16.88   \u001b[0m | \u001b[0m 196.4   \u001b[0m |\n",
      "| \u001b[0m 4       \u001b[0m | \u001b[0m 1.0     \u001b[0m | \u001b[0m 15.68   \u001b[0m | \u001b[0m 11.4    \u001b[0m | \u001b[0m 6.066   \u001b[0m | \u001b[0m 99.17   \u001b[0m |\n",
      "| \u001b[0m 5       \u001b[0m | \u001b[0m 1.0     \u001b[0m | \u001b[0m 10.2    \u001b[0m | \u001b[0m 10.66   \u001b[0m | \u001b[0m 16.67   \u001b[0m | \u001b[0m 271.4   \u001b[0m |\n",
      "| \u001b[0m 6       \u001b[0m | \u001b[0m 1.0     \u001b[0m | \u001b[0m 10.85   \u001b[0m | \u001b[0m 7.06    \u001b[0m | \u001b[0m 19.67   \u001b[0m | \u001b[0m 80.51   \u001b[0m |\n",
      "| \u001b[0m 7       \u001b[0m | \u001b[0m 1.0     \u001b[0m | \u001b[0m 10.56   \u001b[0m | \u001b[0m 11.15   \u001b[0m | \u001b[0m 6.021   \u001b[0m | \u001b[0m 299.7   \u001b[0m |\n",
      "| \u001b[0m 8       \u001b[0m | \u001b[0m 1.0     \u001b[0m | \u001b[0m 19.99   \u001b[0m | \u001b[0m 10.29   \u001b[0m | \u001b[0m 5.547   \u001b[0m | \u001b[0m 80.75   \u001b[0m |\n",
      "| \u001b[0m 9       \u001b[0m | \u001b[0m 1.0     \u001b[0m | \u001b[0m 18.47   \u001b[0m | \u001b[0m 4.328   \u001b[0m | \u001b[0m 5.472   \u001b[0m | \u001b[0m 299.4   \u001b[0m |\n",
      "| \u001b[0m 10      \u001b[0m | \u001b[0m 1.0     \u001b[0m | \u001b[0m 10.41   \u001b[0m | \u001b[0m 7.094   \u001b[0m | \u001b[0m 18.68   \u001b[0m | \u001b[0m 80.2    \u001b[0m |\n",
      "| \u001b[0m 11      \u001b[0m | \u001b[0m 1.0     \u001b[0m | \u001b[0m 18.89   \u001b[0m | \u001b[0m 5.695   \u001b[0m | \u001b[0m 19.76   \u001b[0m | \u001b[0m 298.9   \u001b[0m |\n",
      "| \u001b[0m 12      \u001b[0m | \u001b[0m 0.9667  \u001b[0m | \u001b[0m 19.55   \u001b[0m | \u001b[0m 10.97   \u001b[0m | \u001b[0m 5.804   \u001b[0m | \u001b[0m 80.33   \u001b[0m |\n",
      "| \u001b[0m 13      \u001b[0m | \u001b[0m 1.0     \u001b[0m | \u001b[0m 12.25   \u001b[0m | \u001b[0m 5.893   \u001b[0m | \u001b[0m 16.92   \u001b[0m | \u001b[0m 285.8   \u001b[0m |\n",
      "| \u001b[0m 14      \u001b[0m | \u001b[0m 1.0     \u001b[0m | \u001b[0m 11.28   \u001b[0m | \u001b[0m 10.45   \u001b[0m | \u001b[0m 11.62   \u001b[0m | \u001b[0m 266.5   \u001b[0m |\n",
      "| \u001b[0m 15      \u001b[0m | \u001b[0m 1.0     \u001b[0m | \u001b[0m 18.08   \u001b[0m | \u001b[0m 10.16   \u001b[0m | \u001b[0m 16.42   \u001b[0m | \u001b[0m 215.6   \u001b[0m |\n",
      "=========================================================================\n"
     ]
    }
   ],
   "source": [
    "BO_rf = BayesianOptimization(f = rf_bo, pbounds = rf_parameter_bounds,random_state = 0)\n",
    "\n",
    "BO_rf.maximize(init_points = 5, n_iter = 10)"
   ]
  },
  {
   "cell_type": "code",
   "execution_count": 70,
   "id": "16e03d49",
   "metadata": {},
   "outputs": [
    {
     "data": {
      "text/plain": [
       "{'max_depth': 15.488135039273248,\n",
       " 'min_samples_leaf': 9.721514930979357,\n",
       " 'min_samples_split': 14.041450641074658,\n",
       " 'n_estimators': 199.8743002593173}"
      ]
     },
     "execution_count": 70,
     "metadata": {},
     "output_type": "execute_result"
    }
   ],
   "source": [
    "max_params = BO_rf.max['params']\n",
    "max_params"
   ]
  },
  {
   "cell_type": "code",
   "execution_count": 71,
   "id": "696849b9",
   "metadata": {},
   "outputs": [
    {
     "name": "stdout",
     "output_type": "stream",
     "text": [
      "{'max_depth': 15, 'min_samples_leaf': 9, 'min_samples_split': 14, 'n_estimators': 199}\n"
     ]
    }
   ],
   "source": [
    "max_params['max_depth'] = int(max_params['max_depth'])\n",
    "max_params['min_samples_leaf'] = int(max_params['min_samples_leaf'])\n",
    "max_params['min_samples_split'] = int(max_params['min_samples_split'])\n",
    "max_params['n_estimators'] = int(max_params['n_estimators'])\n",
    "print(max_params)"
   ]
  },
  {
   "cell_type": "code",
   "execution_count": 72,
   "id": "04a7965f",
   "metadata": {},
   "outputs": [],
   "source": [
    "model_BO_rf_tuend = RandomForestClassifier(**max_params)"
   ]
  }
 ],
 "metadata": {
  "kernelspec": {
   "display_name": "Python 3",
   "language": "python",
   "name": "python3"
  },
  "language_info": {
   "codemirror_mode": {
    "name": "ipython",
    "version": 3
   },
   "file_extension": ".py",
   "mimetype": "text/x-python",
   "name": "python",
   "nbconvert_exporter": "python",
   "pygments_lexer": "ipython3",
   "version": "3.8.8"
  }
 },
 "nbformat": 4,
 "nbformat_minor": 5
}
