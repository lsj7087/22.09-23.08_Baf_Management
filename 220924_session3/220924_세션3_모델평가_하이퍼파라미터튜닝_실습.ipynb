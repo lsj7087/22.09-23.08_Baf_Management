{
 "cells": [
  {
   "cell_type": "code",
   "execution_count": 1,
   "id": "df015a8c",
   "metadata": {},
   "outputs": [],
   "source": [
    "import pandas as pd\n",
    "import numpy as np\n",
    "import matplotlib.pyplot as plt\n",
    "\n",
    "from sklearn.ensemble import RandomForestClassifier\n",
    "\n",
    "from sklearn.metrics import accuracy_score"
   ]
  },
  {
   "cell_type": "markdown",
   "id": "0ca87501",
   "metadata": {},
   "source": [
    "# 데이터 셋 준비"
   ]
  },
  {
   "cell_type": "code",
   "execution_count": 2,
   "id": "501e4b35",
   "metadata": {},
   "outputs": [],
   "source": [
    "import seaborn as sns\n",
    "diamonds=sns.load_dataset('diamonds')"
   ]
  },
  {
   "cell_type": "code",
   "execution_count": 3,
   "id": "a00a7841",
   "metadata": {
    "scrolled": false
   },
   "outputs": [
    {
     "data": {
      "text/html": [
       "<div>\n",
       "<style scoped>\n",
       "    .dataframe tbody tr th:only-of-type {\n",
       "        vertical-align: middle;\n",
       "    }\n",
       "\n",
       "    .dataframe tbody tr th {\n",
       "        vertical-align: top;\n",
       "    }\n",
       "\n",
       "    .dataframe thead th {\n",
       "        text-align: right;\n",
       "    }\n",
       "</style>\n",
       "<table border=\"1\" class=\"dataframe\">\n",
       "  <thead>\n",
       "    <tr style=\"text-align: right;\">\n",
       "      <th></th>\n",
       "      <th>depth</th>\n",
       "      <th>table</th>\n",
       "      <th>price</th>\n",
       "      <th>x</th>\n",
       "      <th>y</th>\n",
       "      <th>z</th>\n",
       "      <th>carat</th>\n",
       "      <th>cut</th>\n",
       "    </tr>\n",
       "  </thead>\n",
       "  <tbody>\n",
       "    <tr>\n",
       "      <th>0</th>\n",
       "      <td>61.5</td>\n",
       "      <td>55.0</td>\n",
       "      <td>326</td>\n",
       "      <td>3.95</td>\n",
       "      <td>3.98</td>\n",
       "      <td>2.43</td>\n",
       "      <td>0.23</td>\n",
       "      <td>Ideal</td>\n",
       "    </tr>\n",
       "    <tr>\n",
       "      <th>1</th>\n",
       "      <td>59.8</td>\n",
       "      <td>61.0</td>\n",
       "      <td>326</td>\n",
       "      <td>3.89</td>\n",
       "      <td>3.84</td>\n",
       "      <td>2.31</td>\n",
       "      <td>0.21</td>\n",
       "      <td>Premium</td>\n",
       "    </tr>\n",
       "    <tr>\n",
       "      <th>2</th>\n",
       "      <td>56.9</td>\n",
       "      <td>65.0</td>\n",
       "      <td>327</td>\n",
       "      <td>4.05</td>\n",
       "      <td>4.07</td>\n",
       "      <td>2.31</td>\n",
       "      <td>0.23</td>\n",
       "      <td>Good</td>\n",
       "    </tr>\n",
       "    <tr>\n",
       "      <th>3</th>\n",
       "      <td>62.4</td>\n",
       "      <td>58.0</td>\n",
       "      <td>334</td>\n",
       "      <td>4.20</td>\n",
       "      <td>4.23</td>\n",
       "      <td>2.63</td>\n",
       "      <td>0.29</td>\n",
       "      <td>Premium</td>\n",
       "    </tr>\n",
       "    <tr>\n",
       "      <th>4</th>\n",
       "      <td>63.3</td>\n",
       "      <td>58.0</td>\n",
       "      <td>335</td>\n",
       "      <td>4.34</td>\n",
       "      <td>4.35</td>\n",
       "      <td>2.75</td>\n",
       "      <td>0.31</td>\n",
       "      <td>Good</td>\n",
       "    </tr>\n",
       "    <tr>\n",
       "      <th>...</th>\n",
       "      <td>...</td>\n",
       "      <td>...</td>\n",
       "      <td>...</td>\n",
       "      <td>...</td>\n",
       "      <td>...</td>\n",
       "      <td>...</td>\n",
       "      <td>...</td>\n",
       "      <td>...</td>\n",
       "    </tr>\n",
       "    <tr>\n",
       "      <th>53935</th>\n",
       "      <td>60.8</td>\n",
       "      <td>57.0</td>\n",
       "      <td>2757</td>\n",
       "      <td>5.75</td>\n",
       "      <td>5.76</td>\n",
       "      <td>3.50</td>\n",
       "      <td>0.72</td>\n",
       "      <td>Ideal</td>\n",
       "    </tr>\n",
       "    <tr>\n",
       "      <th>53936</th>\n",
       "      <td>63.1</td>\n",
       "      <td>55.0</td>\n",
       "      <td>2757</td>\n",
       "      <td>5.69</td>\n",
       "      <td>5.75</td>\n",
       "      <td>3.61</td>\n",
       "      <td>0.72</td>\n",
       "      <td>Good</td>\n",
       "    </tr>\n",
       "    <tr>\n",
       "      <th>53937</th>\n",
       "      <td>62.8</td>\n",
       "      <td>60.0</td>\n",
       "      <td>2757</td>\n",
       "      <td>5.66</td>\n",
       "      <td>5.68</td>\n",
       "      <td>3.56</td>\n",
       "      <td>0.70</td>\n",
       "      <td>Very Good</td>\n",
       "    </tr>\n",
       "    <tr>\n",
       "      <th>53938</th>\n",
       "      <td>61.0</td>\n",
       "      <td>58.0</td>\n",
       "      <td>2757</td>\n",
       "      <td>6.15</td>\n",
       "      <td>6.12</td>\n",
       "      <td>3.74</td>\n",
       "      <td>0.86</td>\n",
       "      <td>Premium</td>\n",
       "    </tr>\n",
       "    <tr>\n",
       "      <th>53939</th>\n",
       "      <td>62.2</td>\n",
       "      <td>55.0</td>\n",
       "      <td>2757</td>\n",
       "      <td>5.83</td>\n",
       "      <td>5.87</td>\n",
       "      <td>3.64</td>\n",
       "      <td>0.75</td>\n",
       "      <td>Ideal</td>\n",
       "    </tr>\n",
       "  </tbody>\n",
       "</table>\n",
       "<p>53940 rows × 8 columns</p>\n",
       "</div>"
      ],
      "text/plain": [
       "       depth  table  price     x     y     z  carat        cut\n",
       "0       61.5   55.0    326  3.95  3.98  2.43   0.23      Ideal\n",
       "1       59.8   61.0    326  3.89  3.84  2.31   0.21    Premium\n",
       "2       56.9   65.0    327  4.05  4.07  2.31   0.23       Good\n",
       "3       62.4   58.0    334  4.20  4.23  2.63   0.29    Premium\n",
       "4       63.3   58.0    335  4.34  4.35  2.75   0.31       Good\n",
       "...      ...    ...    ...   ...   ...   ...    ...        ...\n",
       "53935   60.8   57.0   2757  5.75  5.76  3.50   0.72      Ideal\n",
       "53936   63.1   55.0   2757  5.69  5.75  3.61   0.72       Good\n",
       "53937   62.8   60.0   2757  5.66  5.68  3.56   0.70  Very Good\n",
       "53938   61.0   58.0   2757  6.15  6.12  3.74   0.86    Premium\n",
       "53939   62.2   55.0   2757  5.83  5.87  3.64   0.75      Ideal\n",
       "\n",
       "[53940 rows x 8 columns]"
      ]
     },
     "execution_count": 3,
     "metadata": {},
     "output_type": "execute_result"
    }
   ],
   "source": [
    "diamonds = diamonds[[\"depth\",\"table\",\"price\",\"x\",\"y\",\"z\",\"carat\",\"cut\"]]\n",
    "diamonds"
   ]
  },
  {
   "cell_type": "markdown",
   "id": "f35f6908",
   "metadata": {},
   "source": [
    "# 모델 검증"
   ]
  },
  {
   "cell_type": "markdown",
   "id": "3d119025",
   "metadata": {},
   "source": [
    "## 1. hold-out"
   ]
  },
  {
   "cell_type": "code",
   "execution_count": 4,
   "id": "82e06b86",
   "metadata": {},
   "outputs": [],
   "source": [
    "from sklearn.model_selection import train_test_split"
   ]
  },
  {
   "cell_type": "code",
   "execution_count": 5,
   "id": "8ed1498c",
   "metadata": {},
   "outputs": [],
   "source": [
    "x_train, x_test, y_train, y_test = train_test_split(diamonds.iloc[:,0:6],diamonds[\"cut\"], test_size=0.2, random_state=42)"
   ]
  },
  {
   "cell_type": "code",
   "execution_count": 6,
   "id": "c0870dad",
   "metadata": {},
   "outputs": [
    {
     "name": "stdout",
     "output_type": "stream",
     "text": [
      "x_train :  (43152, 6)\n",
      "y_train :  (43152,)\n",
      "x_test :  (10788, 6)\n",
      "y_test :  (10788,)\n"
     ]
    }
   ],
   "source": [
    "print(\"x_train : \",x_train.shape)\n",
    "print(\"y_train : \",y_train.shape)\n",
    "print(\"x_test : \",x_test.shape)\n",
    "print(\"y_test : \",y_test.shape)"
   ]
  },
  {
   "cell_type": "code",
   "execution_count": 7,
   "id": "afa0adcb",
   "metadata": {},
   "outputs": [
    {
     "data": {
      "text/html": [
       "<div>\n",
       "<style scoped>\n",
       "    .dataframe tbody tr th:only-of-type {\n",
       "        vertical-align: middle;\n",
       "    }\n",
       "\n",
       "    .dataframe tbody tr th {\n",
       "        vertical-align: top;\n",
       "    }\n",
       "\n",
       "    .dataframe thead th {\n",
       "        text-align: right;\n",
       "    }\n",
       "</style>\n",
       "<table border=\"1\" class=\"dataframe\">\n",
       "  <thead>\n",
       "    <tr style=\"text-align: right;\">\n",
       "      <th></th>\n",
       "      <th>depth</th>\n",
       "      <th>table</th>\n",
       "      <th>price</th>\n",
       "      <th>x</th>\n",
       "      <th>y</th>\n",
       "      <th>z</th>\n",
       "    </tr>\n",
       "  </thead>\n",
       "  <tbody>\n",
       "    <tr>\n",
       "      <th>26546</th>\n",
       "      <td>58.1</td>\n",
       "      <td>64.0</td>\n",
       "      <td>16231</td>\n",
       "      <td>8.23</td>\n",
       "      <td>8.19</td>\n",
       "      <td>4.77</td>\n",
       "    </tr>\n",
       "    <tr>\n",
       "      <th>9159</th>\n",
       "      <td>60.0</td>\n",
       "      <td>60.0</td>\n",
       "      <td>4540</td>\n",
       "      <td>6.57</td>\n",
       "      <td>6.49</td>\n",
       "      <td>3.92</td>\n",
       "    </tr>\n",
       "    <tr>\n",
       "      <th>14131</th>\n",
       "      <td>62.5</td>\n",
       "      <td>58.0</td>\n",
       "      <td>5729</td>\n",
       "      <td>6.59</td>\n",
       "      <td>6.54</td>\n",
       "      <td>4.10</td>\n",
       "    </tr>\n",
       "    <tr>\n",
       "      <th>15757</th>\n",
       "      <td>61.5</td>\n",
       "      <td>65.0</td>\n",
       "      <td>6300</td>\n",
       "      <td>7.21</td>\n",
       "      <td>7.17</td>\n",
       "      <td>4.42</td>\n",
       "    </tr>\n",
       "    <tr>\n",
       "      <th>24632</th>\n",
       "      <td>62.1</td>\n",
       "      <td>57.0</td>\n",
       "      <td>12968</td>\n",
       "      <td>7.27</td>\n",
       "      <td>7.32</td>\n",
       "      <td>4.53</td>\n",
       "    </tr>\n",
       "    <tr>\n",
       "      <th>...</th>\n",
       "      <td>...</td>\n",
       "      <td>...</td>\n",
       "      <td>...</td>\n",
       "      <td>...</td>\n",
       "      <td>...</td>\n",
       "      <td>...</td>\n",
       "    </tr>\n",
       "    <tr>\n",
       "      <th>11284</th>\n",
       "      <td>62.4</td>\n",
       "      <td>59.0</td>\n",
       "      <td>4975</td>\n",
       "      <td>6.48</td>\n",
       "      <td>6.51</td>\n",
       "      <td>4.05</td>\n",
       "    </tr>\n",
       "    <tr>\n",
       "      <th>44732</th>\n",
       "      <td>61.0</td>\n",
       "      <td>55.0</td>\n",
       "      <td>1617</td>\n",
       "      <td>5.03</td>\n",
       "      <td>5.01</td>\n",
       "      <td>3.06</td>\n",
       "    </tr>\n",
       "    <tr>\n",
       "      <th>38158</th>\n",
       "      <td>60.3</td>\n",
       "      <td>58.0</td>\n",
       "      <td>1014</td>\n",
       "      <td>4.49</td>\n",
       "      <td>4.46</td>\n",
       "      <td>2.70</td>\n",
       "    </tr>\n",
       "    <tr>\n",
       "      <th>860</th>\n",
       "      <td>62.8</td>\n",
       "      <td>59.0</td>\n",
       "      <td>2871</td>\n",
       "      <td>6.13</td>\n",
       "      <td>6.03</td>\n",
       "      <td>3.82</td>\n",
       "    </tr>\n",
       "    <tr>\n",
       "      <th>15795</th>\n",
       "      <td>60.4</td>\n",
       "      <td>58.0</td>\n",
       "      <td>6320</td>\n",
       "      <td>6.82</td>\n",
       "      <td>6.79</td>\n",
       "      <td>4.11</td>\n",
       "    </tr>\n",
       "  </tbody>\n",
       "</table>\n",
       "<p>43152 rows × 6 columns</p>\n",
       "</div>"
      ],
      "text/plain": [
       "       depth  table  price     x     y     z\n",
       "26546   58.1   64.0  16231  8.23  8.19  4.77\n",
       "9159    60.0   60.0   4540  6.57  6.49  3.92\n",
       "14131   62.5   58.0   5729  6.59  6.54  4.10\n",
       "15757   61.5   65.0   6300  7.21  7.17  4.42\n",
       "24632   62.1   57.0  12968  7.27  7.32  4.53\n",
       "...      ...    ...    ...   ...   ...   ...\n",
       "11284   62.4   59.0   4975  6.48  6.51  4.05\n",
       "44732   61.0   55.0   1617  5.03  5.01  3.06\n",
       "38158   60.3   58.0   1014  4.49  4.46  2.70\n",
       "860     62.8   59.0   2871  6.13  6.03  3.82\n",
       "15795   60.4   58.0   6320  6.82  6.79  4.11\n",
       "\n",
       "[43152 rows x 6 columns]"
      ]
     },
     "execution_count": 7,
     "metadata": {},
     "output_type": "execute_result"
    }
   ],
   "source": [
    "x_train"
   ]
  },
  {
   "cell_type": "code",
   "execution_count": 8,
   "id": "a3928a0d",
   "metadata": {},
   "outputs": [
    {
     "data": {
      "text/plain": [
       "26546         Good\n",
       "9159     Very Good\n",
       "14131      Premium\n",
       "15757         Good\n",
       "24632    Very Good\n",
       "           ...    \n",
       "11284    Very Good\n",
       "44732        Ideal\n",
       "38158    Very Good\n",
       "860        Premium\n",
       "15795      Premium\n",
       "Name: cut, Length: 43152, dtype: category\n",
       "Categories (5, object): ['Ideal', 'Premium', 'Very Good', 'Good', 'Fair']"
      ]
     },
     "execution_count": 8,
     "metadata": {},
     "output_type": "execute_result"
    }
   ],
   "source": [
    "y_train"
   ]
  },
  {
   "cell_type": "code",
   "execution_count": 9,
   "id": "f0a648ae",
   "metadata": {},
   "outputs": [],
   "source": [
    "from sklearn.metrics import accuracy_score"
   ]
  },
  {
   "cell_type": "code",
   "execution_count": 10,
   "id": "76042775",
   "metadata": {},
   "outputs": [
    {
     "name": "stdout",
     "output_type": "stream",
     "text": [
      "0.7839265850945495\n"
     ]
    }
   ],
   "source": [
    "model_rf = RandomForestClassifier(n_jobs = -1, random_state=42)\n",
    "model_rf.fit(x_train, y_train)\n",
    "print(accuracy_score(model_rf.predict(x_test), y_test))"
   ]
  },
  {
   "cell_type": "code",
   "execution_count": null,
   "id": "b8f56b44",
   "metadata": {},
   "outputs": [],
   "source": []
  },
  {
   "cell_type": "markdown",
   "id": "d93f6f2c",
   "metadata": {},
   "source": [
    "## 2. k-fold"
   ]
  },
  {
   "cell_type": "code",
   "execution_count": 11,
   "id": "aeabb812",
   "metadata": {},
   "outputs": [],
   "source": [
    "from sklearn.model_selection import KFold"
   ]
  },
  {
   "cell_type": "code",
   "execution_count": 13,
   "id": "0ba96cde",
   "metadata": {},
   "outputs": [
    {
     "data": {
      "text/plain": [
       "0.2556729699666296"
      ]
     },
     "execution_count": 13,
     "metadata": {},
     "output_type": "execute_result"
    }
   ],
   "source": [
    "np.mean(diamonds[\"cut\"]==\"Premium\")"
   ]
  },
  {
   "cell_type": "code",
   "execution_count": 20,
   "id": "7270a559",
   "metadata": {},
   "outputs": [
    {
     "name": "stdout",
     "output_type": "stream",
     "text": [
      "1번 째 반복\n",
      "train : (43152, 8)\n",
      "test : (10788, 8)\n",
      "Premium 비율 : 0.2557471264367816\n",
      "accuracy_score :  0.7487022617723397\n",
      "\n",
      "\n",
      "2번 째 반복\n",
      "train : (43152, 8)\n",
      "test : (10788, 8)\n",
      "Premium 비율 : 0.24541156840934372\n",
      "accuracy_score :  0.7415647015202076\n",
      "\n",
      "\n",
      "3번 째 반복\n",
      "train : (43152, 8)\n",
      "test : (10788, 8)\n",
      "Premium 비율 : 0.24944382647385985\n",
      "accuracy_score :  0.764460511679644\n",
      "\n",
      "\n",
      "4번 째 반복\n",
      "train : (43152, 8)\n",
      "test : (10788, 8)\n",
      "Premium 비율 : 0.2600342973674453\n",
      "accuracy_score :  0.8010752688172043\n",
      "\n",
      "\n",
      "5번 째 반복\n",
      "train : (43152, 8)\n",
      "test : (10788, 8)\n",
      "Premium 비율 : 0.26772803114571747\n",
      "accuracy_score :  0.7440674823878384\n",
      "\n",
      "\n"
     ]
    }
   ],
   "source": [
    "folds=5\n",
    "kf = KFold(n_splits=folds)\n",
    "n = 1\n",
    "acc_list = []\n",
    "for train_ind, test_ind in kf.split(diamonds):\n",
    "    print(f\"{n}번 째 반복\")\n",
    "    print(\"train :\", diamonds.loc[train_ind,:].shape)\n",
    "    print(\"test :\", diamonds.loc[test_ind,:].shape)\n",
    "    print(\"Premium 비율 :\", np.mean(diamonds.loc[train_ind,:][\"cut\"]==\"Premium\"))\n",
    "    \n",
    "    model_rf = RandomForestClassifier(n_jobs = -1, random_state=42)\n",
    "    model_rf.fit(diamonds.iloc[train_ind,0:7],diamonds.iloc[train_ind,7])\n",
    "    acc = accuracy_score(model_rf.predict(diamonds.iloc[test_ind,0:7]), diamonds.iloc[test_ind,7])\n",
    "\n",
    "    print(\"accuracy_score : \",acc)\n",
    "    acc_list.append(acc)\n",
    "    \n",
    "    \n",
    "    n += 1\n",
    "    \n",
    "    print(\"\\n\")"
   ]
  },
  {
   "cell_type": "code",
   "execution_count": 21,
   "id": "c5d80fe9",
   "metadata": {},
   "outputs": [
    {
     "data": {
      "text/plain": [
       "0.7599740452354468"
      ]
     },
     "execution_count": 21,
     "metadata": {},
     "output_type": "execute_result"
    }
   ],
   "source": [
    "np.mean(acc_list)"
   ]
  },
  {
   "cell_type": "markdown",
   "id": "cfa7bceb",
   "metadata": {},
   "source": [
    "## 3. stratified k-fold"
   ]
  },
  {
   "cell_type": "code",
   "execution_count": 22,
   "id": "b5f53391",
   "metadata": {},
   "outputs": [],
   "source": [
    "from sklearn.model_selection import StratifiedKFold"
   ]
  },
  {
   "cell_type": "code",
   "execution_count": 23,
   "id": "5a49a119",
   "metadata": {},
   "outputs": [
    {
     "data": {
      "text/plain": [
       "0.2556729699666296"
      ]
     },
     "execution_count": 23,
     "metadata": {},
     "output_type": "execute_result"
    }
   ],
   "source": [
    "np.mean(diamonds[\"cut\"]==\"Premium\")"
   ]
  },
  {
   "cell_type": "code",
   "execution_count": 25,
   "id": "ef474374",
   "metadata": {},
   "outputs": [
    {
     "name": "stdout",
     "output_type": "stream",
     "text": [
      "1번 째 반복\n",
      "train : (43152, 8)\n",
      "test : (10788, 8)\n",
      "Premium 비율 : 0.2556776047460141\n",
      "accuracy_score :  0.4746014089729329\n",
      "\n",
      "\n",
      "2번 째 반복\n",
      "train : (43152, 8)\n",
      "test : (10788, 8)\n",
      "Premium 비율 : 0.25565443084909156\n",
      "accuracy_score :  0.2388765294771969\n",
      "\n",
      "\n",
      "3번 째 반복\n",
      "train : (43152, 8)\n",
      "test : (10788, 8)\n",
      "Premium 비율 : 0.2556776047460141\n",
      "accuracy_score :  0.23053392658509456\n",
      "\n",
      "\n",
      "4번 째 반복\n",
      "train : (43152, 8)\n",
      "test : (10788, 8)\n",
      "Premium 비율 : 0.2556776047460141\n",
      "accuracy_score :  0.4033185020393029\n",
      "\n",
      "\n",
      "5번 째 반복\n",
      "train : (43152, 8)\n",
      "test : (10788, 8)\n",
      "Premium 비율 : 0.2556776047460141\n",
      "accuracy_score :  0.6623099740452354\n",
      "\n",
      "\n"
     ]
    }
   ],
   "source": [
    "folds=5\n",
    "skf = StratifiedKFold(n_splits=folds)\n",
    "n = 1\n",
    "acc_list = []\n",
    "for train_ind, test_ind in skf.split(diamonds, diamonds[\"cut\"]):\n",
    "    print(f\"{n}번 째 반복\")\n",
    "    print(\"train :\", diamonds.loc[train_ind,:].shape)\n",
    "    print(\"test :\", diamonds.loc[test_ind,:].shape)\n",
    "    print(\"Premium 비율 :\", np.mean(diamonds.loc[train_ind,:][\"cut\"]==\"Premium\"))\n",
    "    \n",
    "    model_rf = RandomForestClassifier(n_jobs = -1, random_state=42)\n",
    "    model_rf.fit(diamonds.iloc[train_ind,0:7],diamonds.iloc[train_ind,7])\n",
    "    acc = accuracy_score(model_rf.predict(diamonds.iloc[test_ind,0:7]), diamonds.iloc[test_ind,7])\n",
    "\n",
    "    print(\"accuracy_score : \",acc)\n",
    "    acc_list.append(acc)\n",
    "    \n",
    "    \n",
    "    n += 1\n",
    "    \n",
    "    print(\"\\n\")"
   ]
  },
  {
   "cell_type": "code",
   "execution_count": 26,
   "id": "1f577b6a",
   "metadata": {},
   "outputs": [
    {
     "data": {
      "text/plain": [
       "0.40192806822395255"
      ]
     },
     "execution_count": 26,
     "metadata": {},
     "output_type": "execute_result"
    }
   ],
   "source": [
    "np.mean(acc_list)"
   ]
  },
  {
   "cell_type": "markdown",
   "id": "29122e09",
   "metadata": {},
   "source": [
    "# 하이퍼 파라미터 튜닝"
   ]
  },
  {
   "cell_type": "markdown",
   "id": "5560d92f",
   "metadata": {},
   "source": [
    "## 2. Grid Search"
   ]
  },
  {
   "cell_type": "code",
   "execution_count": 27,
   "id": "f730883a",
   "metadata": {},
   "outputs": [],
   "source": [
    "from sklearn.model_selection import GridSearchCV"
   ]
  },
  {
   "cell_type": "code",
   "execution_count": 28,
   "id": "a987b142",
   "metadata": {},
   "outputs": [
    {
     "name": "stdout",
     "output_type": "stream",
     "text": [
      "최적 하이퍼 파라미터:  {'max_depth': 20, 'min_samples_leaf': 4, 'min_samples_split': 5, 'n_estimators': 200}\n",
      "최고 예측 정확도: 0.7790\n"
     ]
    }
   ],
   "source": [
    "params = { 'n_estimators' : [80, 100, 200, 300], # 4가지\n",
    "           'max_depth' : [10, 14, 16, 20], # 4가지\n",
    "           'min_samples_leaf' : [4, 8, 12], # 3가지\n",
    "           'min_samples_split' : [5, 10, 20] # 3가지\n",
    "            } # 총 4*4*3*3 = 144번\n",
    "\n",
    "model_rf = RandomForestClassifier(n_jobs = -1, random_state=42)\n",
    "\n",
    "grid_cv = GridSearchCV(model_rf, param_grid = params, cv = 5, n_jobs = -1) #cv : k-fold\n",
    "grid_cv.fit(x_train, y_train)\n",
    "\n",
    "print('최적 하이퍼 파라미터: ', grid_cv.best_params_)\n",
    "print('최고 예측 정확도: {:.4f}'.format(grid_cv.best_score_))"
   ]
  },
  {
   "cell_type": "markdown",
   "id": "c1046e78",
   "metadata": {},
   "source": [
    "## 4. Bayesian Optimization"
   ]
  },
  {
   "cell_type": "code",
   "execution_count": 29,
   "id": "6b6b1ebc",
   "metadata": {},
   "outputs": [],
   "source": [
    "from bayes_opt import BayesianOptimization"
   ]
  },
  {
   "cell_type": "code",
   "execution_count": 30,
   "id": "f1ee9751",
   "metadata": {},
   "outputs": [],
   "source": [
    "rf_parameter_bounds = { 'n_estimators' : (80, 300),\n",
    "           'max_depth' :  (10, 20),\n",
    "           'min_samples_leaf' : (4, 12),\n",
    "           'min_samples_split' :  (5, 20)\n",
    "            }\n",
    "\n",
    "def rf_bo(n_estimators, max_depth, min_samples_leaf, min_samples_split):\n",
    "    bo_params = {\n",
    "        'n_estimators' : int(round(n_estimators)),\n",
    "        'max_depth' : int(round(max_depth)),\n",
    "        'min_samples_leaf' : int(round(min_samples_leaf)),\n",
    "        'min_samples_split' : int(round(min_samples_split)),\n",
    "    }\n",
    "    \n",
    "    rf_train_BO = RandomForestClassifier(**bo_params)\n",
    "\n",
    "    rf_train_BO.fit(x_train,y_train)\n",
    "    score = accuracy_score(rf_train_BO.predict(x_test),y_test)\n",
    "    return score"
   ]
  },
  {
   "cell_type": "code",
   "execution_count": 31,
   "id": "e7410e0a",
   "metadata": {},
   "outputs": [
    {
     "name": "stdout",
     "output_type": "stream",
     "text": [
      "|   iter    |  target   | max_depth | min_sa... | min_sa... | n_esti... |\n",
      "-------------------------------------------------------------------------\n",
      "| \u001b[0m 1       \u001b[0m | \u001b[0m 0.7714  \u001b[0m | \u001b[0m 15.49   \u001b[0m | \u001b[0m 9.722   \u001b[0m | \u001b[0m 14.04   \u001b[0m | \u001b[0m 199.9   \u001b[0m |\n",
      "| \u001b[0m 2       \u001b[0m | \u001b[0m 0.7689  \u001b[0m | \u001b[0m 14.24   \u001b[0m | \u001b[0m 9.167   \u001b[0m | \u001b[0m 11.56   \u001b[0m | \u001b[0m 276.2   \u001b[0m |\n",
      "| \u001b[95m 3       \u001b[0m | \u001b[95m 0.7777  \u001b[0m | \u001b[95m 19.64   \u001b[0m | \u001b[95m 7.068   \u001b[0m | \u001b[95m 16.88   \u001b[0m | \u001b[95m 196.4   \u001b[0m |\n",
      "| \u001b[0m 4       \u001b[0m | \u001b[0m 0.7718  \u001b[0m | \u001b[0m 15.68   \u001b[0m | \u001b[0m 11.4    \u001b[0m | \u001b[0m 6.066   \u001b[0m | \u001b[0m 99.17   \u001b[0m |\n",
      "| \u001b[0m 5       \u001b[0m | \u001b[0m 0.7544  \u001b[0m | \u001b[0m 10.2    \u001b[0m | \u001b[0m 10.66   \u001b[0m | \u001b[0m 16.67   \u001b[0m | \u001b[0m 271.4   \u001b[0m |\n",
      "| \u001b[0m 6       \u001b[0m | \u001b[0m 0.7761  \u001b[0m | \u001b[0m 18.09   \u001b[0m | \u001b[0m 9.439   \u001b[0m | \u001b[0m 16.85   \u001b[0m | \u001b[0m 192.0   \u001b[0m |\n",
      "| \u001b[95m 7       \u001b[0m | \u001b[95m 0.778   \u001b[0m | \u001b[95m 17.14   \u001b[0m | \u001b[95m 4.063   \u001b[0m | \u001b[95m 9.339   \u001b[0m | \u001b[95m 191.3   \u001b[0m |\n",
      "| \u001b[95m 8       \u001b[0m | \u001b[95m 0.7797  \u001b[0m | \u001b[95m 20.0    \u001b[0m | \u001b[95m 4.0     \u001b[0m | \u001b[95m 13.48   \u001b[0m | \u001b[95m 182.4   \u001b[0m |\n",
      "| \u001b[0m 9       \u001b[0m | \u001b[0m 0.7629  \u001b[0m | \u001b[0m 12.05   \u001b[0m | \u001b[0m 5.826   \u001b[0m | \u001b[0m 5.79    \u001b[0m | \u001b[0m 178.8   \u001b[0m |\n",
      "| \u001b[0m 10      \u001b[0m | \u001b[0m 0.7776  \u001b[0m | \u001b[0m 20.0    \u001b[0m | \u001b[0m 4.0     \u001b[0m | \u001b[0m 20.0    \u001b[0m | \u001b[0m 186.7   \u001b[0m |\n",
      "| \u001b[0m 11      \u001b[0m | \u001b[0m 0.7773  \u001b[0m | \u001b[0m 19.94   \u001b[0m | \u001b[0m 5.554   \u001b[0m | \u001b[0m 19.6    \u001b[0m | \u001b[0m 176.1   \u001b[0m |\n",
      "| \u001b[95m 12      \u001b[0m | \u001b[95m 0.7817  \u001b[0m | \u001b[95m 19.85   \u001b[0m | \u001b[95m 4.328   \u001b[0m | \u001b[95m 5.18    \u001b[0m | \u001b[95m 290.5   \u001b[0m |\n",
      "| \u001b[0m 13      \u001b[0m | \u001b[0m 0.7709  \u001b[0m | \u001b[0m 16.81   \u001b[0m | \u001b[0m 11.89   \u001b[0m | \u001b[0m 6.963   \u001b[0m | \u001b[0m 296.6   \u001b[0m |\n",
      "| \u001b[0m 14      \u001b[0m | \u001b[0m 0.7816  \u001b[0m | \u001b[0m 19.49   \u001b[0m | \u001b[0m 4.433   \u001b[0m | \u001b[0m 5.839   \u001b[0m | \u001b[0m 283.8   \u001b[0m |\n",
      "| \u001b[0m 15      \u001b[0m | \u001b[0m 0.757   \u001b[0m | \u001b[0m 10.0    \u001b[0m | \u001b[0m 4.0     \u001b[0m | \u001b[0m 5.0     \u001b[0m | \u001b[0m 287.4   \u001b[0m |\n",
      "=========================================================================\n"
     ]
    }
   ],
   "source": [
    "BO_rf = BayesianOptimization(f = rf_bo, pbounds = rf_parameter_bounds,random_state = 0)\n",
    "\n",
    "BO_rf.maximize(init_points = 5, n_iter = 10)"
   ]
  },
  {
   "cell_type": "code",
   "execution_count": 32,
   "id": "16e03d49",
   "metadata": {},
   "outputs": [
    {
     "data": {
      "text/plain": [
       "{'max_depth': 19.846814545955667,\n",
       " 'min_samples_leaf': 4.328079084165816,\n",
       " 'min_samples_split': 5.179687345178966,\n",
       " 'n_estimators': 290.50205763363783}"
      ]
     },
     "execution_count": 32,
     "metadata": {},
     "output_type": "execute_result"
    }
   ],
   "source": [
    "max_params = BO_rf.max['params']\n",
    "max_params"
   ]
  },
  {
   "cell_type": "code",
   "execution_count": 33,
   "id": "696849b9",
   "metadata": {},
   "outputs": [
    {
     "name": "stdout",
     "output_type": "stream",
     "text": [
      "{'max_depth': 19, 'min_samples_leaf': 4, 'min_samples_split': 5, 'n_estimators': 290}\n"
     ]
    }
   ],
   "source": [
    "max_params['max_depth'] = int(max_params['max_depth'])\n",
    "max_params['min_samples_leaf'] = int(max_params['min_samples_leaf'])\n",
    "max_params['min_samples_split'] = int(max_params['min_samples_split'])\n",
    "max_params['n_estimators'] = int(max_params['n_estimators'])\n",
    "print(max_params)"
   ]
  },
  {
   "cell_type": "code",
   "execution_count": 34,
   "id": "04a7965f",
   "metadata": {},
   "outputs": [],
   "source": [
    "model_BO_rf_tuend = RandomForestClassifier(**max_params)"
   ]
  },
  {
   "cell_type": "code",
   "execution_count": null,
   "id": "e10cfdbe",
   "metadata": {},
   "outputs": [],
   "source": []
  },
  {
   "cell_type": "code",
   "execution_count": null,
   "id": "098bfa53",
   "metadata": {},
   "outputs": [],
   "source": []
  }
 ],
 "metadata": {
  "kernelspec": {
   "display_name": "Python 3",
   "language": "python",
   "name": "python3"
  },
  "language_info": {
   "codemirror_mode": {
    "name": "ipython",
    "version": 3
   },
   "file_extension": ".py",
   "mimetype": "text/x-python",
   "name": "python",
   "nbconvert_exporter": "python",
   "pygments_lexer": "ipython3",
   "version": "3.8.8"
  }
 },
 "nbformat": 4,
 "nbformat_minor": 5
}
